{
 "cells": [
  {
   "cell_type": "code",
   "execution_count": 1,
   "id": "f6237fc2",
   "metadata": {},
   "outputs": [
    {
     "name": "stdout",
     "output_type": "stream",
     "text": [
      "Collecting package metadata (current_repodata.json): done\n",
      "Solving environment: done\n",
      "\n",
      "## Package Plan ##\n",
      "\n",
      "  environment location: /Users/devtechbox/opt/anaconda3\n",
      "\n",
      "  added / updated specs:\n",
      "    - lxml\n",
      "\n",
      "\n",
      "The following packages will be downloaded:\n",
      "\n",
      "    package                    |            build\n",
      "    ---------------------------|-----------------\n",
      "    ca-certificates-2022.3.29  |       hecd8cb5_1         125 KB  anaconda\n",
      "    certifi-2021.10.8          |   py39hecd8cb5_2         156 KB  anaconda\n",
      "    openssl-1.1.1n             |       hca72f7f_0         3.5 MB  anaconda\n",
      "    ------------------------------------------------------------\n",
      "                                           Total:         3.8 MB\n",
      "\n",
      "The following packages will be SUPERSEDED by a higher-priority channel:\n",
      "\n",
      "  ca-certificates                                 pkgs/main --> anaconda None\n",
      "  certifi                                         pkgs/main --> anaconda None\n",
      "  openssl                                         pkgs/main --> anaconda None\n",
      "\n",
      "\n",
      "\n",
      "Downloading and Extracting Packages\n",
      "certifi-2021.10.8    | 156 KB    | ##################################### | 100% \n",
      "openssl-1.1.1n       | 3.5 MB    | ##################################### | 100% \n",
      "ca-certificates-2022 | 125 KB    | ##################################### | 100% \n",
      "Preparing transaction: done\n",
      "Verifying transaction: done\n",
      "Executing transaction: done\n",
      "Retrieving notices: ...working... done\n",
      "\n",
      "Note: you may need to restart the kernel to use updated packages.\n"
     ]
    }
   ],
   "source": [
    " conda install -c anaconda lxml \n"
   ]
  },
  {
   "cell_type": "code",
   "execution_count": 2,
   "id": "b22d4e32",
   "metadata": {
    "scrolled": true
   },
   "outputs": [
    {
     "name": "stdout",
     "output_type": "stream",
     "text": [
      "Collecting package metadata (current_repodata.json): done\n",
      "Solving environment: done\n",
      "\n",
      "# All requested packages already installed.\n",
      "\n",
      "Retrieving notices: ...working... done\n",
      "\n",
      "Note: you may need to restart the kernel to use updated packages.\n"
     ]
    }
   ],
   "source": [
    "conda install -c anaconda beautifulsoup4 \n"
   ]
  },
  {
   "cell_type": "code",
   "execution_count": 3,
   "id": "f62eec95",
   "metadata": {},
   "outputs": [
    {
     "name": "stdout",
     "output_type": "stream",
     "text": [
      "Collecting package metadata (current_repodata.json): done\n",
      "Solving environment: done\n",
      "\n",
      "# All requested packages already installed.\n",
      "\n",
      "Retrieving notices: ...working... done\n",
      "\n",
      "Note: you may need to restart the kernel to use updated packages.\n"
     ]
    }
   ],
   "source": [
    " conda install -c anaconda requests \n"
   ]
  },
  {
   "cell_type": "code",
   "execution_count": 13,
   "id": "9c92b3bc",
   "metadata": {},
   "outputs": [],
   "source": [
    "from bs4 import BeautifulSoup as bs\n",
    "import requests\n",
    "import csv"
   ]
  },
  {
   "cell_type": "code",
   "execution_count": 15,
   "id": "5e7949fb",
   "metadata": {
    "scrolled": true
   },
   "outputs": [],
   "source": [
    "#first call API\n",
    "url=\"https://satoriz-comboire.bio/collections/boissons-sans-alcools/famille-boissons-vegetales\"\n",
    "response = requests.get(url)\n",
    "html = response.content\n",
    "# ameliorer l'affichage avec BS\n",
    "soup = bs(html, \"lxml\")"
   ]
  },
  {
   "cell_type": "code",
   "execution_count": 16,
   "id": "33b9e976",
   "metadata": {},
   "outputs": [
    {
     "name": "stdout",
     "output_type": "stream",
     "text": [
      "2\n"
     ]
    }
   ],
   "source": [
    "#Recuperer le nombre de pages à parcourir pour avoir tous les URL des articles\n",
    "pages_number= int(soup.find(\"li\", class_=\"pagination__text\").get_text().replace(\"\\n\", \"\").split(' ')[7])\n",
    "print(pages_number)\n"
   ]
  },
  {
   "cell_type": "code",
   "execution_count": 19,
   "id": "79073078",
   "metadata": {},
   "outputs": [],
   "source": [
    "i=1\n",
    "urlList=[]\n",
    "#recuperer tous les Url des articles et les stocker dans un tableau\n",
    "while i <= pages_number:\n",
    "    urlPage=\"https://satoriz-comboire.bio/collections/boissons-sans-alcools/famille-boissons-vegetales?page=\"+str(i)\n",
    "    response = requests.get(urlPage)\n",
    "    html = response.content\n",
    "    soup = bs(html, \"lxml\")\n",
    "    urls=soup.find_all(\"a\", class_=\"grid-view-item__link\")\n",
    "    for url in urls:\n",
    "        urlList.append('https://satoriz-comboire.bio'+url['href'])\n",
    "    i+= 1"
   ]
  },
  {
   "cell_type": "code",
   "execution_count": 20,
   "id": "d326a5af",
   "metadata": {},
   "outputs": [],
   "source": [
    "\n",
    "#fonction qui parcours chaque url de la liste pour recuperer la data démandée, la nettoyer et la stocker dans des listes\n",
    "def product_obj(url):\n",
    "    dataObj = [];\n",
    "    response = requests.get(url)\n",
    "    html = response.content\n",
    "    soup = bs(html, \"lxml\")\n",
    "    dataObj.append(url) ;\n",
    "    dataObj.append(soup.find(\"h1\", class_=\"product-single__title\").get_text())\n",
    "    dataObj.append(soup.find(\"div\", class_=\"product__vendor\").get_text().split(\"\\n\")[1].split(\"  \")[6])\n",
    "    dataObj.append(soup.find(\"span\", class_=\"rqp\").get_text().split(\"/\")[0])\n",
    "    dataObj.append(soup.find(\"img\", class_=\"feature-row__image\")[\"src\"] if soup.find(\"img\", class_=\"feature-row__image\") else \"\")\n",
    "    dataObj.append(soup.find(\"div\", class_=\"product__refs\").get_text().split(\": \")[2].split(\"\\n\")[0])\n",
    "    return dataObj\n",
    "\n",
    "#définir une lite de headers pour le fichier csv\n",
    "headers=[\"product Url\",\"product Title\", \"product Brand\",\"product Price\", \"product Image Url\",\"product Ref\"]\n",
    "scrapedData=[]\n",
    "#appeler la fonction avec chaue url de la liste\n",
    "for product_url in urlList:\n",
    "    scrapedData.append(product_obj(product_url))\n",
    "    \n"
   ]
  },
  {
   "cell_type": "code",
   "execution_count": 21,
   "id": "3060c448",
   "metadata": {},
   "outputs": [
    {
     "name": "stdout",
     "output_type": "stream",
     "text": [
      "63\n"
     ]
    }
   ],
   "source": [
    "print(len(scrapedData))\n",
    "#exporter les résultats dans un fichier CSV\n",
    "with open('scrappedData.csv', 'w') as f:\n",
    "    # using csv.writer method from CSV package\n",
    "    write = csv.writer(f)\n",
    "      \n",
    "    write.writerow(headers)\n",
    "    write.writerows(scrapedData)\n"
   ]
  }
 ],
 "metadata": {
  "kernelspec": {
   "display_name": "Python 3 (ipykernel)",
   "language": "python",
   "name": "python3"
  },
  "language_info": {
   "codemirror_mode": {
    "name": "ipython",
    "version": 3
   },
   "file_extension": ".py",
   "mimetype": "text/x-python",
   "name": "python",
   "nbconvert_exporter": "python",
   "pygments_lexer": "ipython3",
   "version": "3.9.12"
  }
 },
 "nbformat": 4,
 "nbformat_minor": 5
}
